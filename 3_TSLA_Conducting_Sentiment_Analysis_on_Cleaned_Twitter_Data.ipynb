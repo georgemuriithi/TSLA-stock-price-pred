{
  "nbformat": 4,
  "nbformat_minor": 0,
  "metadata": {
    "kernelspec": {
      "display_name": "Python 3",
      "language": "python",
      "name": "python3"
    },
    "language_info": {
      "codemirror_mode": {
        "name": "ipython",
        "version": 3
      },
      "file_extension": ".py",
      "mimetype": "text/x-python",
      "name": "python",
      "nbconvert_exporter": "python",
      "pygments_lexer": "ipython3",
      "version": "3.7.4"
    },
    "colab": {
      "name": "3 TSLA Conducting Sentiment Analysis on Cleaned Twitter Data.ipynb",
      "provenance": [],
      "collapsed_sections": []
    },
    "accelerator": "GPU"
  },
  "cells": [
    {
      "cell_type": "markdown",
      "metadata": {
        "id": "614JA24XJXlf"
      },
      "source": [
        "### 1. Importing packages"
      ]
    },
    {
      "cell_type": "code",
      "metadata": {
        "id": "XS4pX3vBs2ao"
      },
      "source": [
        "import pandas as pd\n",
        "import matplotlib.pyplot as plt\n",
        "import nltk\n",
        "import re\n",
        "from textblob import TextBlob\n",
        "%matplotlib inline\n",
        "import seaborn as sns"
      ],
      "execution_count": null,
      "outputs": []
    },
    {
      "cell_type": "code",
      "metadata": {
        "scrolled": true,
        "colab": {
          "base_uri": "https://localhost:8080/",
          "height": 195
        },
        "id": "wCRVdXGXs2aq",
        "outputId": "270850ec-2040-42d2-da44-56da31eb05aa"
      },
      "source": [
        "# reading and preview 'cleaned_data.csv'\n",
        "tweets = pd.read_csv('cleaned_data.csv')\n",
        "tweets = tweets.iloc[:, [0, 1, 4]]\n",
        "tweets.head()"
      ],
      "execution_count": null,
      "outputs": [
        {
          "output_type": "execute_result",
          "data": {
            "text/html": [
              "<div>\n",
              "<style scoped>\n",
              "    .dataframe tbody tr th:only-of-type {\n",
              "        vertical-align: middle;\n",
              "    }\n",
              "\n",
              "    .dataframe tbody tr th {\n",
              "        vertical-align: top;\n",
              "    }\n",
              "\n",
              "    .dataframe thead th {\n",
              "        text-align: right;\n",
              "    }\n",
              "</style>\n",
              "<table border=\"1\" class=\"dataframe\">\n",
              "  <thead>\n",
              "    <tr style=\"text-align: right;\">\n",
              "      <th></th>\n",
              "      <th>id</th>\n",
              "      <th>date</th>\n",
              "      <th>cleaned_tweet</th>\n",
              "    </tr>\n",
              "  </thead>\n",
              "  <tbody>\n",
              "    <tr>\n",
              "      <th>0</th>\n",
              "      <td>1212450794705969152</td>\n",
              "      <td>2020-01-02</td>\n",
              "      <td>fun fact audi register e tron netherlands   su...</td>\n",
              "    </tr>\n",
              "    <tr>\n",
              "      <th>1</th>\n",
              "      <td>1212450579634626560</td>\n",
              "      <td>2020-01-02</td>\n",
              "      <td>mf  stock watch shit go damn year miss curve</td>\n",
              "    </tr>\n",
              "    <tr>\n",
              "      <th>2</th>\n",
              "      <td>1212450337543602177</td>\n",
              "      <td>2020-01-02</td>\n",
              "      <td>icannot enough june th within day  low reply c...</td>\n",
              "    </tr>\n",
              "    <tr>\n",
              "      <th>3</th>\n",
              "      <td>1212450309131227141</td>\n",
              "      <td>2020-01-02</td>\n",
              "      <td>gain momentum taiwan ownerstwn     taiwan</td>\n",
              "    </tr>\n",
              "    <tr>\n",
              "      <th>4</th>\n",
              "      <td>1212449703318753280</td>\n",
              "      <td>2020-01-02</td>\n",
              "      <td>schuldensuehner extrapolate number another two...</td>\n",
              "    </tr>\n",
              "  </tbody>\n",
              "</table>\n",
              "</div>"
            ],
            "text/plain": [
              "                    id  ...                                      cleaned_tweet\n",
              "0  1212450794705969152  ...  fun fact audi register e tron netherlands   su...\n",
              "1  1212450579634626560  ...       mf  stock watch shit go damn year miss curve\n",
              "2  1212450337543602177  ...  icannot enough june th within day  low reply c...\n",
              "3  1212450309131227141  ...          gain momentum taiwan ownerstwn     taiwan\n",
              "4  1212449703318753280  ...  schuldensuehner extrapolate number another two...\n",
              "\n",
              "[5 rows x 3 columns]"
            ]
          },
          "metadata": {
            "tags": []
          },
          "execution_count": 4
        }
      ]
    },
    {
      "cell_type": "code",
      "metadata": {
        "colab": {
          "base_uri": "https://localhost:8080/"
        },
        "id": "ZD2HcQdHs2ar",
        "outputId": "7cafb829-b501-41fc-8c93-56ff141d877d"
      },
      "source": [
        "# looking at tesla_tweets data types\n",
        "\n",
        "tweets.info()"
      ],
      "execution_count": null,
      "outputs": [
        {
          "output_type": "stream",
          "text": [
            "<class 'pandas.core.frame.DataFrame'>\n",
            "RangeIndex: 113741 entries, 0 to 113740\n",
            "Data columns (total 3 columns):\n",
            " #   Column         Non-Null Count   Dtype \n",
            "---  ------         --------------   ----- \n",
            " 0   id             113741 non-null  int64 \n",
            " 1   date           113741 non-null  object\n",
            " 2   cleaned_tweet  109112 non-null  object\n",
            "dtypes: int64(1), object(2)\n",
            "memory usage: 2.6+ MB\n"
          ],
          "name": "stdout"
        }
      ]
    },
    {
      "cell_type": "code",
      "metadata": {
        "colab": {
          "base_uri": "https://localhost:8080/"
        },
        "id": "_55OS1EGs2as",
        "outputId": "deb7b68e-548f-4169-fa0d-04f088f87b79"
      },
      "source": [
        "# converting date_time column into datetime stamp\n",
        "\n",
        "tweets.date = pd.to_datetime(tweets.date)\n",
        "tweets.info()"
      ],
      "execution_count": null,
      "outputs": [
        {
          "output_type": "stream",
          "text": [
            "<class 'pandas.core.frame.DataFrame'>\n",
            "RangeIndex: 113741 entries, 0 to 113740\n",
            "Data columns (total 3 columns):\n",
            " #   Column         Non-Null Count   Dtype         \n",
            "---  ------         --------------   -----         \n",
            " 0   id             113741 non-null  int64         \n",
            " 1   date           113741 non-null  datetime64[ns]\n",
            " 2   cleaned_tweet  109112 non-null  object        \n",
            "dtypes: datetime64[ns](1), int64(1), object(1)\n",
            "memory usage: 2.6+ MB\n"
          ],
          "name": "stdout"
        }
      ]
    },
    {
      "cell_type": "code",
      "metadata": {
        "colab": {
          "base_uri": "https://localhost:8080/"
        },
        "id": "I9-onEl_s2at",
        "outputId": "3a85cf8e-0cf6-4c95-9dfe-bad5c68c5004"
      },
      "source": [
        "# checking for null values\n",
        "\n",
        "tweets.isnull().sum()"
      ],
      "execution_count": null,
      "outputs": [
        {
          "output_type": "execute_result",
          "data": {
            "text/plain": [
              "id                  0\n",
              "date                0\n",
              "cleaned_tweet    4629\n",
              "dtype: int64"
            ]
          },
          "metadata": {
            "tags": []
          },
          "execution_count": 7
        }
      ]
    },
    {
      "cell_type": "code",
      "metadata": {
        "id": "r_HwPqUms2at"
      },
      "source": [
        "# dropping null values\n",
        "\n",
        "tweets = tweets.dropna()"
      ],
      "execution_count": null,
      "outputs": []
    },
    {
      "cell_type": "markdown",
      "metadata": {
        "id": "TGrtwTTos2au"
      },
      "source": [
        "### 2. Calculating sentiment score with TextBlob"
      ]
    },
    {
      "cell_type": "code",
      "metadata": {
        "colab": {
          "base_uri": "https://localhost:8080/",
          "height": 195
        },
        "id": "mmlk--QQs2au",
        "outputId": "00813862-2be2-4e34-9f94-cd10abc391c7"
      },
      "source": [
        "# using TextBlob to get sentiment scores\n",
        "\n",
        "tweets['sentiment'] = tweets.apply(lambda row: TextBlob(row.cleaned_tweet).sentiment[0], axis=1)\n",
        "tweets.head()"
      ],
      "execution_count": null,
      "outputs": [
        {
          "output_type": "execute_result",
          "data": {
            "text/html": [
              "<div>\n",
              "<style scoped>\n",
              "    .dataframe tbody tr th:only-of-type {\n",
              "        vertical-align: middle;\n",
              "    }\n",
              "\n",
              "    .dataframe tbody tr th {\n",
              "        vertical-align: top;\n",
              "    }\n",
              "\n",
              "    .dataframe thead th {\n",
              "        text-align: right;\n",
              "    }\n",
              "</style>\n",
              "<table border=\"1\" class=\"dataframe\">\n",
              "  <thead>\n",
              "    <tr style=\"text-align: right;\">\n",
              "      <th></th>\n",
              "      <th>id</th>\n",
              "      <th>date</th>\n",
              "      <th>cleaned_tweet</th>\n",
              "      <th>sentiment</th>\n",
              "    </tr>\n",
              "  </thead>\n",
              "  <tbody>\n",
              "    <tr>\n",
              "      <th>0</th>\n",
              "      <td>1212450794705969152</td>\n",
              "      <td>2020-01-02</td>\n",
              "      <td>fun fact audi register e tron netherlands   su...</td>\n",
              "      <td>0.15</td>\n",
              "    </tr>\n",
              "    <tr>\n",
              "      <th>1</th>\n",
              "      <td>1212450579634626560</td>\n",
              "      <td>2020-01-02</td>\n",
              "      <td>mf  stock watch shit go damn year miss curve</td>\n",
              "      <td>-0.20</td>\n",
              "    </tr>\n",
              "    <tr>\n",
              "      <th>2</th>\n",
              "      <td>1212450337543602177</td>\n",
              "      <td>2020-01-02</td>\n",
              "      <td>icannot enough june th within day  low reply c...</td>\n",
              "      <td>0.20</td>\n",
              "    </tr>\n",
              "    <tr>\n",
              "      <th>3</th>\n",
              "      <td>1212450309131227141</td>\n",
              "      <td>2020-01-02</td>\n",
              "      <td>gain momentum taiwan ownerstwn     taiwan</td>\n",
              "      <td>0.00</td>\n",
              "    </tr>\n",
              "    <tr>\n",
              "      <th>4</th>\n",
              "      <td>1212449703318753280</td>\n",
              "      <td>2020-01-02</td>\n",
              "      <td>schuldensuehner extrapolate number another two...</td>\n",
              "      <td>0.75</td>\n",
              "    </tr>\n",
              "  </tbody>\n",
              "</table>\n",
              "</div>"
            ],
            "text/plain": [
              "                    id  ... sentiment\n",
              "0  1212450794705969152  ...      0.15\n",
              "1  1212450579634626560  ...     -0.20\n",
              "2  1212450337543602177  ...      0.20\n",
              "3  1212450309131227141  ...      0.00\n",
              "4  1212449703318753280  ...      0.75\n",
              "\n",
              "[5 rows x 4 columns]"
            ]
          },
          "metadata": {
            "tags": []
          },
          "execution_count": 9
        }
      ]
    },
    {
      "cell_type": "code",
      "metadata": {
        "colab": {
          "base_uri": "https://localhost:8080/",
          "height": 394
        },
        "id": "D1zICgsJs2av",
        "outputId": "84acdcee-77e3-4341-ce91-f355c2e51aa3"
      },
      "source": [
        "# previewing how sentiment scores differ on different tweets\n",
        "\n",
        "pd.options.display.max_colwidth = 300\n",
        "random_subset = tweets.sample(n=10)\n",
        "random_subset = random_subset.drop(columns=['id', 'date'])\n",
        "random_subset.rename(columns={'tweet':'Original Tweet'})\n",
        "random_subset = random_subset.rename(columns={'tweet': 'Original Tweet', 'cleaned_tweet': 'Cleaned Tweet', 'sentiment':'TextBlob Sentiment'})\n",
        "random_subset.head(10)"
      ],
      "execution_count": null,
      "outputs": [
        {
          "output_type": "execute_result",
          "data": {
            "text/html": [
              "<div>\n",
              "<style scoped>\n",
              "    .dataframe tbody tr th:only-of-type {\n",
              "        vertical-align: middle;\n",
              "    }\n",
              "\n",
              "    .dataframe tbody tr th {\n",
              "        vertical-align: top;\n",
              "    }\n",
              "\n",
              "    .dataframe thead th {\n",
              "        text-align: right;\n",
              "    }\n",
              "</style>\n",
              "<table border=\"1\" class=\"dataframe\">\n",
              "  <thead>\n",
              "    <tr style=\"text-align: right;\">\n",
              "      <th></th>\n",
              "      <th>Cleaned Tweet</th>\n",
              "      <th>TextBlob Sentiment</th>\n",
              "    </tr>\n",
              "  </thead>\n",
              "  <tbody>\n",
              "    <tr>\n",
              "      <th>65657</th>\n",
              "      <td>gwestr delayslater fact greg sell  bit annoy</td>\n",
              "      <td>0.000000</td>\n",
              "    </tr>\n",
              "    <tr>\n",
              "      <th>1321</th>\n",
              "      <td>hansniederberg year   gf germany take miracle still certain happen</td>\n",
              "      <td>0.214286</td>\n",
              "    </tr>\n",
              "    <tr>\n",
              "      <th>109614</th>\n",
              "      <td>crackheadbob garyblack wrong people call index inefficient last year arkinvest others own index since pandemic  since unload today greener pasture index garbage tho</td>\n",
              "      <td>0.033333</td>\n",
              "    </tr>\n",
              "    <tr>\n",
              "      <th>66565</th>\n",
              "      <td>asset see jump tweet eth</td>\n",
              "      <td>0.000000</td>\n",
              "    </tr>\n",
              "    <tr>\n",
              "      <th>73896</th>\n",
              "      <td>still time get apple appl    stocksplit sure start  robinhood account</td>\n",
              "      <td>0.500000</td>\n",
              "    </tr>\n",
              "    <tr>\n",
              "      <th>53506</th>\n",
              "      <td>aapl msft amzn fb nflx googl amd zm bynd ba baba dal wmt hd   spy ba nvda g cost</td>\n",
              "      <td>0.000000</td>\n",
              "    </tr>\n",
              "    <tr>\n",
              "      <th>71677</th>\n",
              "      <td>brianlantier dougkass realmoney right chanos use bound investment portfolio exposure percentages control risk salt away fractional reward example fund short shs  trim portfolio hold shs today thereabouts</td>\n",
              "      <td>0.142857</td>\n",
              "    </tr>\n",
              "    <tr>\n",
              "      <th>113643</th>\n",
              "      <td>look nice</td>\n",
              "      <td>0.600000</td>\n",
              "    </tr>\n",
              "    <tr>\n",
              "      <th>45518</th>\n",
              "      <td>trendspider</td>\n",
              "      <td>0.000000</td>\n",
              "    </tr>\n",
              "    <tr>\n",
              "      <th>60649</th>\n",
              "      <td>inmb imv  warzonescript top favorite among client ribbon wil populare identify important support resistance zone avail  tradingview tos</td>\n",
              "      <td>0.466667</td>\n",
              "    </tr>\n",
              "  </tbody>\n",
              "</table>\n",
              "</div>"
            ],
            "text/plain": [
              "                                                                                                                                                                                                      Cleaned Tweet  TextBlob Sentiment\n",
              "65657                                                                                                                                                                  gwestr delayslater fact greg sell  bit annoy            0.000000\n",
              "1321                                                                                                                                             hansniederberg year   gf germany take miracle still certain happen            0.214286\n",
              "109614                                         crackheadbob garyblack wrong people call index inefficient last year arkinvest others own index since pandemic  since unload today greener pasture index garbage tho            0.033333\n",
              "66565                                                                                                                                                                                     asset see jump tweet eth             0.000000\n",
              "73896                                                                                                                                         still time get apple appl    stocksplit sure start  robinhood account            0.500000\n",
              "53506                                                                                                                              aapl msft amzn fb nflx googl amd zm bynd ba baba dal wmt hd   spy ba nvda g cost            0.000000\n",
              "71677   brianlantier dougkass realmoney right chanos use bound investment portfolio exposure percentages control risk salt away fractional reward example fund short shs  trim portfolio hold shs today thereabouts            0.142857\n",
              "113643                                                                                                                                                                                                    look nice            0.600000\n",
              "45518                                                                                                                                                                                                  trendspider             0.000000\n",
              "60649                                                                       inmb imv  warzonescript top favorite among client ribbon wil populare identify important support resistance zone avail  tradingview tos            0.466667"
            ]
          },
          "metadata": {
            "tags": []
          },
          "execution_count": 10
        }
      ]
    },
    {
      "cell_type": "code",
      "metadata": {
        "colab": {
          "base_uri": "https://localhost:8080/"
        },
        "id": "JfgzupV5s2av",
        "outputId": "e3674b75-087c-48ac-b8c1-fe7cd5726058"
      },
      "source": [
        "tweets.shape"
      ],
      "execution_count": null,
      "outputs": [
        {
          "output_type": "execute_result",
          "data": {
            "text/plain": [
              "(109112, 4)"
            ]
          },
          "metadata": {
            "tags": []
          },
          "execution_count": 11
        }
      ]
    },
    {
      "cell_type": "markdown",
      "metadata": {
        "id": "AN8S2CQos2aw"
      },
      "source": [
        "### 3. Frequency analysis"
      ]
    },
    {
      "cell_type": "code",
      "metadata": {
        "colab": {
          "base_uri": "https://localhost:8080/",
          "height": 623
        },
        "id": "vvtuGDcAs2aw",
        "outputId": "11468b82-9c5a-498e-dce5-976b4527a071"
      },
      "source": [
        "# viewing count of tweets for binned sentiment\n",
        "\n",
        "bins = [-1.0, -0.8, -0.6, -.4, -.2, 0, 0.2, 0.4, 0.6, 0.8, 1]\n",
        "tweets['binned'] = pd.cut(tweets['sentiment'], bins)\n",
        "plt.figure(figsize=(16,9))\n",
        "ax = sns.countplot(x=tweets['binned'])\n",
        "ax.set_ylabel('Number of Tweets', fontsize=12)\n",
        "ax.set_xlabel('TextBlob Sentiment Score', fontsize=12)\n",
        "ax.set_xticklabels(ax.get_xticklabels(), rotation=40, ha=\"right\", fontsize=14)\n",
        "ax.set_title(\"Sentiment Tweet Counts\", fontsize=20)\n",
        "ax.set_ylim(0, 120000)\n",
        "plt.show()"
      ],
      "execution_count": null,
      "outputs": [
        {
          "output_type": "display_data",
          "data": {
            "image/png": "[encoded data removed]",
            "text/plain": [
              "<Figure size 1152x648 with 1 Axes>"
            ]
          },
          "metadata": {
            "tags": [],
            "needs_background": "light"
          }
        }
      ]
    },
    {
      "cell_type": "markdown",
      "metadata": {
        "id": "bZUwyE2gs2ax"
      },
      "source": [
        "### 4. Calculating daily sentiment"
      ]
    },
    {
      "cell_type": "code",
      "metadata": {
        "colab": {
          "base_uri": "https://localhost:8080/",
          "height": 195
        },
        "id": "UXfRvdlKs2ax",
        "outputId": "ef783c84-a3ad-4c2d-93ba-037b3a603046"
      },
      "source": [
        "daily_sentiment = tweets[['date', 'sentiment']]\n",
        "daily_sentiment.head()"
      ],
      "execution_count": null,
      "outputs": [
        {
          "output_type": "execute_result",
          "data": {
            "text/html": [
              "<div>\n",
              "<style scoped>\n",
              "    .dataframe tbody tr th:only-of-type {\n",
              "        vertical-align: middle;\n",
              "    }\n",
              "\n",
              "    .dataframe tbody tr th {\n",
              "        vertical-align: top;\n",
              "    }\n",
              "\n",
              "    .dataframe thead th {\n",
              "        text-align: right;\n",
              "    }\n",
              "</style>\n",
              "<table border=\"1\" class=\"dataframe\">\n",
              "  <thead>\n",
              "    <tr style=\"text-align: right;\">\n",
              "      <th></th>\n",
              "      <th>date</th>\n",
              "      <th>sentiment</th>\n",
              "    </tr>\n",
              "  </thead>\n",
              "  <tbody>\n",
              "    <tr>\n",
              "      <th>0</th>\n",
              "      <td>2020-01-02</td>\n",
              "      <td>0.15</td>\n",
              "    </tr>\n",
              "    <tr>\n",
              "      <th>1</th>\n",
              "      <td>2020-01-02</td>\n",
              "      <td>-0.20</td>\n",
              "    </tr>\n",
              "    <tr>\n",
              "      <th>2</th>\n",
              "      <td>2020-01-02</td>\n",
              "      <td>0.20</td>\n",
              "    </tr>\n",
              "    <tr>\n",
              "      <th>3</th>\n",
              "      <td>2020-01-02</td>\n",
              "      <td>0.00</td>\n",
              "    </tr>\n",
              "    <tr>\n",
              "      <th>4</th>\n",
              "      <td>2020-01-02</td>\n",
              "      <td>0.75</td>\n",
              "    </tr>\n",
              "  </tbody>\n",
              "</table>\n",
              "</div>"
            ],
            "text/plain": [
              "        date  sentiment\n",
              "0 2020-01-02       0.15\n",
              "1 2020-01-02      -0.20\n",
              "2 2020-01-02       0.20\n",
              "3 2020-01-02       0.00\n",
              "4 2020-01-02       0.75"
            ]
          },
          "metadata": {
            "tags": []
          },
          "execution_count": 13
        }
      ]
    },
    {
      "cell_type": "code",
      "metadata": {
        "colab": {
          "base_uri": "https://localhost:8080/",
          "height": 225
        },
        "id": "tI6gAX1os2ay",
        "outputId": "affd92c5-d32d-49a4-d625-470ad0374de6"
      },
      "source": [
        "# daily average sentiment scores\n",
        "daily_sentiment = daily_sentiment.resample('D', on='date').mean()\n",
        "daily_sentiment.head()"
      ],
      "execution_count": null,
      "outputs": [
        {
          "output_type": "execute_result",
          "data": {
            "text/html": [
              "<div>\n",
              "<style scoped>\n",
              "    .dataframe tbody tr th:only-of-type {\n",
              "        vertical-align: middle;\n",
              "    }\n",
              "\n",
              "    .dataframe tbody tr th {\n",
              "        vertical-align: top;\n",
              "    }\n",
              "\n",
              "    .dataframe thead th {\n",
              "        text-align: right;\n",
              "    }\n",
              "</style>\n",
              "<table border=\"1\" class=\"dataframe\">\n",
              "  <thead>\n",
              "    <tr style=\"text-align: right;\">\n",
              "      <th></th>\n",
              "      <th>sentiment</th>\n",
              "    </tr>\n",
              "    <tr>\n",
              "      <th>date</th>\n",
              "      <th></th>\n",
              "    </tr>\n",
              "  </thead>\n",
              "  <tbody>\n",
              "    <tr>\n",
              "      <th>2020-01-01</th>\n",
              "      <td>0.099938</td>\n",
              "    </tr>\n",
              "    <tr>\n",
              "      <th>2020-01-02</th>\n",
              "      <td>0.111398</td>\n",
              "    </tr>\n",
              "    <tr>\n",
              "      <th>2020-01-03</th>\n",
              "      <td>0.073760</td>\n",
              "    </tr>\n",
              "    <tr>\n",
              "      <th>2020-01-04</th>\n",
              "      <td>0.083606</td>\n",
              "    </tr>\n",
              "    <tr>\n",
              "      <th>2020-01-05</th>\n",
              "      <td>0.086658</td>\n",
              "    </tr>\n",
              "  </tbody>\n",
              "</table>\n",
              "</div>"
            ],
            "text/plain": [
              "            sentiment\n",
              "date                 \n",
              "2020-01-01   0.099938\n",
              "2020-01-02   0.111398\n",
              "2020-01-03   0.073760\n",
              "2020-01-04   0.083606\n",
              "2020-01-05   0.086658"
            ]
          },
          "metadata": {
            "tags": []
          },
          "execution_count": 14
        }
      ]
    },
    {
      "cell_type": "code",
      "metadata": {
        "colab": {
          "base_uri": "https://localhost:8080/",
          "height": 405
        },
        "id": "-U3uoSfls2ay",
        "outputId": "d9f08422-e7bb-4b3b-fa7b-46a714d70e82"
      },
      "source": [
        "# finding the days with the highest sentiment_2\n",
        "\n",
        "freq_df = daily_sentiment.nlargest(columns=\"sentiment\", n = 10) \n",
        "plt.figure(figsize=(16,5))\n",
        "ax = sns.barplot(data=freq_df, x= freq_df.index.date, y = freq_df['sentiment'])\n",
        "ax.set_ylabel('Average Sentiment Score', fontsize=12)\n",
        "ax.set_xlabel('Date', fontsize=16)\n",
        "ax.set_xticklabels(ax.get_xticklabels(), rotation=40, ha=\"right\", fontsize=12)\n",
        "ax.set_title('Top Daily Sentiment Scores', fontsize=22)\n",
        "plt.show()"
      ],
      "execution_count": null,
      "outputs": [
        {
          "output_type": "display_data",
          "data": {
            "image/png": "[encoded data removed]",
            "text/plain": [
              "<Figure size 1152x360 with 1 Axes>"
            ]
          },
          "metadata": {
            "tags": [],
            "needs_background": "light"
          }
        }
      ]
    },
    {
      "cell_type": "code",
      "metadata": {
        "colab": {
          "base_uri": "https://localhost:8080/",
          "height": 405
        },
        "id": "ea91ELrAs2az",
        "outputId": "285bd09f-c6fb-4c53-a620-f679905ac38a"
      },
      "source": [
        "freq_df = daily_sentiment.nsmallest(columns=\"sentiment\", n = 10) \n",
        "plt.figure(figsize=(16,5))\n",
        "ax = sns.barplot(data=freq_df, x= freq_df.index.date, y = freq_df['sentiment'])\n",
        "ax.set_ylabel('Average Sentiment Score', fontsize=12)\n",
        "ax.set_xlabel('Date', fontsize=16)\n",
        "ax.set_xticklabels(ax.get_xticklabels(), rotation=40, ha=\"right\", fontsize=12)\n",
        "ax.set_title('Lowest Daily Sentiment Scores', fontsize=22)\n",
        "\n",
        "plt.show()"
      ],
      "execution_count": null,
      "outputs": [
        {
          "output_type": "display_data",
          "data": {
            "image/png": "[encoded data removed]",
            "text/plain": [
              "<Figure size 1152x360 with 1 Axes>"
            ]
          },
          "metadata": {
            "tags": [],
            "needs_background": "light"
          }
        }
      ]
    },
    {
      "cell_type": "markdown",
      "metadata": {
        "id": "AdPt-wKzs2az"
      },
      "source": [
        "### 5. Removing tweets with sentiment scores of 0"
      ]
    },
    {
      "cell_type": "code",
      "metadata": {
        "colab": {
          "base_uri": "https://localhost:8080/",
          "height": 279
        },
        "id": "tRqcrLQCs2a0",
        "outputId": "67b843e9-16a2-4e4a-e84d-d52698c55ae2"
      },
      "source": [
        "remove_s1_0 = tweets.copy()\n",
        "remove_s1_0.head()"
      ],
      "execution_count": null,
      "outputs": [
        {
          "output_type": "execute_result",
          "data": {
            "text/html": [
              "<div>\n",
              "<style scoped>\n",
              "    .dataframe tbody tr th:only-of-type {\n",
              "        vertical-align: middle;\n",
              "    }\n",
              "\n",
              "    .dataframe tbody tr th {\n",
              "        vertical-align: top;\n",
              "    }\n",
              "\n",
              "    .dataframe thead th {\n",
              "        text-align: right;\n",
              "    }\n",
              "</style>\n",
              "<table border=\"1\" class=\"dataframe\">\n",
              "  <thead>\n",
              "    <tr style=\"text-align: right;\">\n",
              "      <th></th>\n",
              "      <th>id</th>\n",
              "      <th>date</th>\n",
              "      <th>cleaned_tweet</th>\n",
              "      <th>sentiment</th>\n",
              "      <th>binned</th>\n",
              "    </tr>\n",
              "  </thead>\n",
              "  <tbody>\n",
              "    <tr>\n",
              "      <th>0</th>\n",
              "      <td>1212450794705969152</td>\n",
              "      <td>2020-01-02</td>\n",
              "      <td>fun fact audi register e tron netherlands   sux combine  obviously order magnitude</td>\n",
              "      <td>0.15</td>\n",
              "      <td>(0.0, 0.2]</td>\n",
              "    </tr>\n",
              "    <tr>\n",
              "      <th>1</th>\n",
              "      <td>1212450579634626560</td>\n",
              "      <td>2020-01-02</td>\n",
              "      <td>mf  stock watch shit go damn year miss curve</td>\n",
              "      <td>-0.20</td>\n",
              "      <td>(-0.4, -0.2]</td>\n",
              "    </tr>\n",
              "    <tr>\n",
              "      <th>2</th>\n",
              "      <td>1212450337543602177</td>\n",
              "      <td>2020-01-02</td>\n",
              "      <td>icannot enough june th within day  low reply charts never short lol</td>\n",
              "      <td>0.20</td>\n",
              "      <td>(0.0, 0.2]</td>\n",
              "    </tr>\n",
              "    <tr>\n",
              "      <th>3</th>\n",
              "      <td>1212450309131227141</td>\n",
              "      <td>2020-01-02</td>\n",
              "      <td>gain momentum taiwan ownerstwn     taiwan</td>\n",
              "      <td>0.00</td>\n",
              "      <td>(-0.2, 0.0]</td>\n",
              "    </tr>\n",
              "    <tr>\n",
              "      <th>4</th>\n",
              "      <td>1212449703318753280</td>\n",
              "      <td>2020-01-02</td>\n",
              "      <td>schuldensuehner extrapolate number another two year consider amp occur ice company scramble survive look like  successful</td>\n",
              "      <td>0.75</td>\n",
              "      <td>(0.6, 0.8]</td>\n",
              "    </tr>\n",
              "  </tbody>\n",
              "</table>\n",
              "</div>"
            ],
            "text/plain": [
              "                    id       date  ... sentiment        binned\n",
              "0  1212450794705969152 2020-01-02  ...      0.15    (0.0, 0.2]\n",
              "1  1212450579634626560 2020-01-02  ...     -0.20  (-0.4, -0.2]\n",
              "2  1212450337543602177 2020-01-02  ...      0.20    (0.0, 0.2]\n",
              "3  1212450309131227141 2020-01-02  ...      0.00   (-0.2, 0.0]\n",
              "4  1212449703318753280 2020-01-02  ...      0.75    (0.6, 0.8]\n",
              "\n",
              "[5 rows x 5 columns]"
            ]
          },
          "metadata": {
            "tags": []
          },
          "execution_count": 17
        }
      ]
    },
    {
      "cell_type": "code",
      "metadata": {
        "colab": {
          "base_uri": "https://localhost:8080/"
        },
        "id": "-Owy8H_3s2a0",
        "outputId": "b94280e1-b0dc-4730-9088-5b40a496de42"
      },
      "source": [
        "# checking how many tweets had sentiment scores of 0\n",
        "print('There are ' + str((remove_s1_0.sentiment == 0).sum()) + ' tweets with a Sentiment Score of 0')"
      ],
      "execution_count": null,
      "outputs": [
        {
          "output_type": "stream",
          "text": [
            "There are 48917 tweets with a Sentiment Score of 0\n"
          ],
          "name": "stdout"
        }
      ]
    },
    {
      "cell_type": "code",
      "metadata": {
        "colab": {
          "base_uri": "https://localhost:8080/"
        },
        "id": "wVXKO1mds2a0",
        "outputId": "d168ad97-0d0e-488f-b0c0-4cc84f503439"
      },
      "source": [
        "# removing tweets with 0 for sentiment_2 scores\n",
        "remove_0 = tweets.copy()\n",
        "remove_0 = remove_0.rename(columns={'sentiment':'s_no_0'})\n",
        "remove_0 = remove_0[remove_0.s_no_0 != 0]\n",
        "(remove_0.s_no_0 == 0).sum()"
      ],
      "execution_count": null,
      "outputs": [
        {
          "output_type": "execute_result",
          "data": {
            "text/plain": [
              "0"
            ]
          },
          "metadata": {
            "tags": []
          },
          "execution_count": 19
        }
      ]
    },
    {
      "cell_type": "code",
      "metadata": {
        "id": "Nii7LGrTs2a1"
      },
      "source": [
        "remove_0 = remove_0.groupby(['date'], as_index = False).mean()"
      ],
      "execution_count": null,
      "outputs": []
    },
    {
      "cell_type": "code",
      "metadata": {
        "colab": {
          "base_uri": "https://localhost:8080/"
        },
        "id": "SYVgg_T3s2a1",
        "outputId": "6259014e-6eb4-453e-ab20-2d0c4685881b"
      },
      "source": [
        "# checking that there are no null values\n",
        "\n",
        "remove_0.isnull().sum()"
      ],
      "execution_count": null,
      "outputs": [
        {
          "output_type": "execute_result",
          "data": {
            "text/plain": [
              "date      0\n",
              "id        0\n",
              "s_no_0    0\n",
              "dtype: int64"
            ]
          },
          "metadata": {
            "tags": []
          },
          "execution_count": 21
        }
      ]
    },
    {
      "cell_type": "code",
      "metadata": {
        "colab": {
          "base_uri": "https://localhost:8080/",
          "height": 225
        },
        "id": "ewqMA-ADs2a2",
        "outputId": "3c13d581-f31f-4339-965e-417476ea5554"
      },
      "source": [
        "# adding updated columns back to early_tweets dataframe\n",
        "daily_sentiment['sentiment_final'] = remove_0.s_no_0.values\n",
        "daily_sentiment.head()"
      ],
      "execution_count": null,
      "outputs": [
        {
          "output_type": "execute_result",
          "data": {
            "text/html": [
              "<div>\n",
              "<style scoped>\n",
              "    .dataframe tbody tr th:only-of-type {\n",
              "        vertical-align: middle;\n",
              "    }\n",
              "\n",
              "    .dataframe tbody tr th {\n",
              "        vertical-align: top;\n",
              "    }\n",
              "\n",
              "    .dataframe thead th {\n",
              "        text-align: right;\n",
              "    }\n",
              "</style>\n",
              "<table border=\"1\" class=\"dataframe\">\n",
              "  <thead>\n",
              "    <tr style=\"text-align: right;\">\n",
              "      <th></th>\n",
              "      <th>sentiment</th>\n",
              "      <th>sentiment_final</th>\n",
              "    </tr>\n",
              "    <tr>\n",
              "      <th>date</th>\n",
              "      <th></th>\n",
              "      <th></th>\n",
              "    </tr>\n",
              "  </thead>\n",
              "  <tbody>\n",
              "    <tr>\n",
              "      <th>2020-01-01</th>\n",
              "      <td>0.099938</td>\n",
              "      <td>0.154961</td>\n",
              "    </tr>\n",
              "    <tr>\n",
              "      <th>2020-01-02</th>\n",
              "      <td>0.111398</td>\n",
              "      <td>0.161528</td>\n",
              "    </tr>\n",
              "    <tr>\n",
              "      <th>2020-01-03</th>\n",
              "      <td>0.073760</td>\n",
              "      <td>0.128297</td>\n",
              "    </tr>\n",
              "    <tr>\n",
              "      <th>2020-01-04</th>\n",
              "      <td>0.083606</td>\n",
              "      <td>0.144796</td>\n",
              "    </tr>\n",
              "    <tr>\n",
              "      <th>2020-01-05</th>\n",
              "      <td>0.086658</td>\n",
              "      <td>0.132267</td>\n",
              "    </tr>\n",
              "  </tbody>\n",
              "</table>\n",
              "</div>"
            ],
            "text/plain": [
              "            sentiment  sentiment_final\n",
              "date                                  \n",
              "2020-01-01   0.099938         0.154961\n",
              "2020-01-02   0.111398         0.161528\n",
              "2020-01-03   0.073760         0.128297\n",
              "2020-01-04   0.083606         0.144796\n",
              "2020-01-05   0.086658         0.132267"
            ]
          },
          "metadata": {
            "tags": []
          },
          "execution_count": 22
        }
      ]
    },
    {
      "cell_type": "markdown",
      "metadata": {
        "id": "AIe46jV3s2a2"
      },
      "source": [
        "### 6. Saving sentiment analysis results"
      ]
    },
    {
      "cell_type": "code",
      "metadata": {
        "id": "zTVmp6mqs2a2"
      },
      "source": [
        "daily_sentiment.to_csv('daily_sentiment_scores.csv')"
      ],
      "execution_count": null,
      "outputs": []
    },
    {
      "cell_type": "code",
      "metadata": {
        "id": "-tomwIlFewcG"
      },
      "source": [
        ""
      ],
      "execution_count": null,
      "outputs": []
    }
  ]
}